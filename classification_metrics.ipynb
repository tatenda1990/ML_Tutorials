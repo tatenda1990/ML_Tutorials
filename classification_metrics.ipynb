{
 "cells": [
  {
   "cell_type": "code",
   "execution_count": 1,
   "metadata": {},
   "outputs": [],
   "source": [
    "import pandas as pd\n",
    "import numpy as np"
   ]
  },
  {
   "cell_type": "code",
   "execution_count": 4,
   "metadata": {},
   "outputs": [
    {
     "name": "stdout",
     "output_type": "stream",
     "text": [
      "              precision    recall  f1-score   support\n",
      "\n",
      "         0.0     0.9996    1.0000    0.9998      9995\n",
      "         1.0     1.0000    0.2000    0.3333         5\n",
      "\n",
      "    accuracy                         0.9996     10000\n",
      "   macro avg     0.9998    0.6000    0.6666     10000\n",
      "weighted avg     0.9996    0.9996    0.9995     10000\n",
      "\n"
     ]
    }
   ],
   "source": [
    "disease_true = np.zeros(10000)\n",
    "disease_true[0:5] = 1\n",
    "\n",
    "#build model. This is a very difficult model to build, it has onyl one instance of positive and the rest are negative\n",
    "#so maybe the ML can't detect the pattern and once built it just predicts all instances as false (i.e. 0)\n",
    "\n",
    "disease_preds = np.zeros(10000)\n",
    "disease_preds[3] = 1\n",
    "\n",
    "from sklearn.metrics import classification_report\n",
    "print(classification_report(disease_true, disease_preds, digits = 4))"
   ]
  },
  {
   "cell_type": "code",
   "execution_count": 3,
   "metadata": {},
   "outputs": [],
   "source": [
    "#precision is how many of the labelled data did the clasiification model get right,i.e. where actually the correct label. \n",
    "# In this case, for data predicted as 0, 99.96 % wereactually correctly identified as 0.  and\n",
    "# of all the predictions labelled 1, 100% were correctly predicted\n",
    "# recall is how many of the positives the model correctly classified\n",
    "# f1 -score is the weighted harmonic mean of recision and recall (see Wikipedia https://en.wikipedia.org/wiki/Harmonic_mean)\n",
    "# suport is simply the number of instances of each label wer present\n",
    "# macro average and weighted average are reporting the same data just over the entire dataset. "
   ]
  },
  {
   "cell_type": "code",
   "execution_count": null,
   "metadata": {},
   "outputs": [],
   "source": []
  }
 ],
 "metadata": {
  "kernelspec": {
   "display_name": "Python 3.10.7 64-bit",
   "language": "python",
   "name": "python3"
  },
  "language_info": {
   "codemirror_mode": {
    "name": "ipython",
    "version": 3
   },
   "file_extension": ".py",
   "mimetype": "text/x-python",
   "name": "python",
   "nbconvert_exporter": "python",
   "pygments_lexer": "ipython3",
   "version": "3.10.7"
  },
  "orig_nbformat": 4,
  "vscode": {
   "interpreter": {
    "hash": "26de051ba29f2982a8de78e945f0abaf191376122a1563185a90213a26c5da77"
   }
  }
 },
 "nbformat": 4,
 "nbformat_minor": 2
}
